{
 "cells": [
  {
   "cell_type": "markdown",
   "metadata": {},
   "source": [
    "# UnderSampling and OverSampling\n",
    "\n",
    "### While applying classification algorithms, if one of the class of target variable has much more observations than the other classes then, our model is to be biased for the class with majority samples. We use sampling techniques to deal with the imbalanced data.\n",
    "### Oversampling and undersampling in data analysis are techniques used to adjust the class distribution of a data set (i.e. the ratio between the different classes/categories represented).\n",
    "### Random Under Sampling is removing observations of the majority class until it is same as classes with minor observations.\n",
    "### Oversampling can be defined as adding more copies to the minority class. Oversampling can be a good choice when you don’t have a ton of data to work with."
   ]
  },
  {
   "cell_type": "markdown",
   "metadata": {},
   "source": [
    "# Decision Trees.\n",
    "###  Decision tree is the most powerful and popular tool for classification and prediction. A Decision tree is a flowchart like tree structure, where each internal node denotes a test on an attribute, each branch represents an outcome of the test, and each leaf node (terminal node) holds a class label.\n",
    "\n",
    "1. Import required libraries\n",
    "2. Importing the data set into DataFrame.\n",
    "3. Analyzing the data,its columns and types. \n",
    "4. Converting data into target and feature variables. \n",
    "5. Undersample the data.\n",
    "6. Dividing data into training and testing.\n",
    "7. Applying Decision Trees Algorithm to train madel on training data.\n",
    "8. Conclusion."
   ]
  },
  {
   "cell_type": "markdown",
   "metadata": {},
   "source": [
    "## Importing Libraries"
   ]
  },
  {
   "cell_type": "code",
   "execution_count": 1,
   "metadata": {},
   "outputs": [],
   "source": [
    "import pandas as pd\n",
    "import matplotlib.pyplot as plt\n",
    "import imblearn\n",
    "from imblearn.under_sampling import RandomUnderSampler\n",
    "from imblearn.over_sampling import RandomOverSampler\n",
    "from sklearn.model_selection import train_test_split\n",
    "from sklearn.tree import DecisionTreeClassifier\n",
    "%matplotlib inline"
   ]
  },
  {
   "cell_type": "markdown",
   "metadata": {},
   "source": [
    "## Reading Data in Data Frame"
   ]
  },
  {
   "cell_type": "code",
   "execution_count": 2,
   "metadata": {},
   "outputs": [],
   "source": [
    "Data = pd.read_csv('biddings.csv')"
   ]
  },
  {
   "cell_type": "markdown",
   "metadata": {},
   "source": [
    "## Data Analysis"
   ]
  },
  {
   "cell_type": "code",
   "execution_count": 3,
   "metadata": {},
   "outputs": [
    {
     "data": {
      "text/html": [
       "<div>\n",
       "<style scoped>\n",
       "    .dataframe tbody tr th:only-of-type {\n",
       "        vertical-align: middle;\n",
       "    }\n",
       "\n",
       "    .dataframe tbody tr th {\n",
       "        vertical-align: top;\n",
       "    }\n",
       "\n",
       "    .dataframe thead th {\n",
       "        text-align: right;\n",
       "    }\n",
       "</style>\n",
       "<table border=\"1\" class=\"dataframe\">\n",
       "  <thead>\n",
       "    <tr style=\"text-align: right;\">\n",
       "      <th></th>\n",
       "      <th>0</th>\n",
       "      <th>1</th>\n",
       "      <th>2</th>\n",
       "      <th>3</th>\n",
       "      <th>4</th>\n",
       "      <th>5</th>\n",
       "      <th>6</th>\n",
       "      <th>7</th>\n",
       "      <th>8</th>\n",
       "      <th>9</th>\n",
       "      <th>...</th>\n",
       "      <th>79</th>\n",
       "      <th>80</th>\n",
       "      <th>81</th>\n",
       "      <th>82</th>\n",
       "      <th>83</th>\n",
       "      <th>84</th>\n",
       "      <th>85</th>\n",
       "      <th>86</th>\n",
       "      <th>87</th>\n",
       "      <th>convert</th>\n",
       "    </tr>\n",
       "  </thead>\n",
       "  <tbody>\n",
       "    <tr>\n",
       "      <th>0</th>\n",
       "      <td>-0.01</td>\n",
       "      <td>-0.43</td>\n",
       "      <td>2.22</td>\n",
       "      <td>-0.59</td>\n",
       "      <td>0.80</td>\n",
       "      <td>0.21</td>\n",
       "      <td>-0.19</td>\n",
       "      <td>0.30</td>\n",
       "      <td>-0.25</td>\n",
       "      <td>0.42</td>\n",
       "      <td>...</td>\n",
       "      <td>-0.07</td>\n",
       "      <td>0.30</td>\n",
       "      <td>-0.19</td>\n",
       "      <td>0.61</td>\n",
       "      <td>-0.04</td>\n",
       "      <td>0.36</td>\n",
       "      <td>-0.18</td>\n",
       "      <td>-0.24</td>\n",
       "      <td>0.07</td>\n",
       "      <td>0</td>\n",
       "    </tr>\n",
       "    <tr>\n",
       "      <th>1</th>\n",
       "      <td>0.00</td>\n",
       "      <td>-4.11</td>\n",
       "      <td>1.48</td>\n",
       "      <td>0.92</td>\n",
       "      <td>-7.37</td>\n",
       "      <td>0.60</td>\n",
       "      <td>0.37</td>\n",
       "      <td>1.95</td>\n",
       "      <td>0.19</td>\n",
       "      <td>0.85</td>\n",
       "      <td>...</td>\n",
       "      <td>-0.57</td>\n",
       "      <td>-0.27</td>\n",
       "      <td>1.17</td>\n",
       "      <td>-0.52</td>\n",
       "      <td>-1.43</td>\n",
       "      <td>-0.24</td>\n",
       "      <td>-0.41</td>\n",
       "      <td>0.71</td>\n",
       "      <td>-0.22</td>\n",
       "      <td>0</td>\n",
       "    </tr>\n",
       "    <tr>\n",
       "      <th>2</th>\n",
       "      <td>0.01</td>\n",
       "      <td>-5.03</td>\n",
       "      <td>-2.78</td>\n",
       "      <td>-0.83</td>\n",
       "      <td>0.92</td>\n",
       "      <td>0.46</td>\n",
       "      <td>0.10</td>\n",
       "      <td>1.36</td>\n",
       "      <td>-0.74</td>\n",
       "      <td>1.62</td>\n",
       "      <td>...</td>\n",
       "      <td>-0.13</td>\n",
       "      <td>0.33</td>\n",
       "      <td>0.38</td>\n",
       "      <td>0.41</td>\n",
       "      <td>-0.61</td>\n",
       "      <td>0.24</td>\n",
       "      <td>-0.10</td>\n",
       "      <td>-1.19</td>\n",
       "      <td>0.37</td>\n",
       "      <td>0</td>\n",
       "    </tr>\n",
       "    <tr>\n",
       "      <th>3</th>\n",
       "      <td>-0.02</td>\n",
       "      <td>1.98</td>\n",
       "      <td>2.30</td>\n",
       "      <td>0.87</td>\n",
       "      <td>-7.09</td>\n",
       "      <td>0.36</td>\n",
       "      <td>0.16</td>\n",
       "      <td>1.79</td>\n",
       "      <td>0.23</td>\n",
       "      <td>0.26</td>\n",
       "      <td>...</td>\n",
       "      <td>0.07</td>\n",
       "      <td>0.41</td>\n",
       "      <td>-0.81</td>\n",
       "      <td>-0.49</td>\n",
       "      <td>0.07</td>\n",
       "      <td>-0.20</td>\n",
       "      <td>-0.31</td>\n",
       "      <td>-0.55</td>\n",
       "      <td>0.18</td>\n",
       "      <td>0</td>\n",
       "    </tr>\n",
       "    <tr>\n",
       "      <th>4</th>\n",
       "      <td>-0.01</td>\n",
       "      <td>0.14</td>\n",
       "      <td>-2.43</td>\n",
       "      <td>-0.68</td>\n",
       "      <td>0.73</td>\n",
       "      <td>-1.47</td>\n",
       "      <td>0.68</td>\n",
       "      <td>1.93</td>\n",
       "      <td>-0.35</td>\n",
       "      <td>3.12</td>\n",
       "      <td>...</td>\n",
       "      <td>-0.04</td>\n",
       "      <td>0.03</td>\n",
       "      <td>0.07</td>\n",
       "      <td>-0.05</td>\n",
       "      <td>-0.02</td>\n",
       "      <td>-0.01</td>\n",
       "      <td>0.00</td>\n",
       "      <td>-0.20</td>\n",
       "      <td>0.07</td>\n",
       "      <td>0</td>\n",
       "    </tr>\n",
       "  </tbody>\n",
       "</table>\n",
       "<p>5 rows × 89 columns</p>\n",
       "</div>"
      ],
      "text/plain": [
       "      0     1     2     3     4     5     6     7     8     9  ...    79  \\\n",
       "0 -0.01 -0.43  2.22 -0.59  0.80  0.21 -0.19  0.30 -0.25  0.42  ... -0.07   \n",
       "1  0.00 -4.11  1.48  0.92 -7.37  0.60  0.37  1.95  0.19  0.85  ... -0.57   \n",
       "2  0.01 -5.03 -2.78 -0.83  0.92  0.46  0.10  1.36 -0.74  1.62  ... -0.13   \n",
       "3 -0.02  1.98  2.30  0.87 -7.09  0.36  0.16  1.79  0.23  0.26  ...  0.07   \n",
       "4 -0.01  0.14 -2.43 -0.68  0.73 -1.47  0.68  1.93 -0.35  3.12  ... -0.04   \n",
       "\n",
       "     80    81    82    83    84    85    86    87  convert  \n",
       "0  0.30 -0.19  0.61 -0.04  0.36 -0.18 -0.24  0.07        0  \n",
       "1 -0.27  1.17 -0.52 -1.43 -0.24 -0.41  0.71 -0.22        0  \n",
       "2  0.33  0.38  0.41 -0.61  0.24 -0.10 -1.19  0.37        0  \n",
       "3  0.41 -0.81 -0.49  0.07 -0.20 -0.31 -0.55  0.18        0  \n",
       "4  0.03  0.07 -0.05 -0.02 -0.01  0.00 -0.20  0.07        0  \n",
       "\n",
       "[5 rows x 89 columns]"
      ]
     },
     "execution_count": 3,
     "metadata": {},
     "output_type": "execute_result"
    }
   ],
   "source": [
    "Data.head()"
   ]
  },
  {
   "cell_type": "markdown",
   "metadata": {},
   "source": [
    "### Analysing Data info"
   ]
  },
  {
   "cell_type": "code",
   "execution_count": 4,
   "metadata": {},
   "outputs": [
    {
     "name": "stdout",
     "output_type": "stream",
     "text": [
      "<class 'pandas.core.frame.DataFrame'>\n",
      "RangeIndex: 1000000 entries, 0 to 999999\n",
      "Data columns (total 89 columns):\n",
      "0          1000000 non-null float64\n",
      "1          1000000 non-null float64\n",
      "2          1000000 non-null float64\n",
      "3          1000000 non-null float64\n",
      "4          1000000 non-null float64\n",
      "5          1000000 non-null float64\n",
      "6          1000000 non-null float64\n",
      "7          1000000 non-null float64\n",
      "8          1000000 non-null float64\n",
      "9          1000000 non-null float64\n",
      "10         1000000 non-null float64\n",
      "11         1000000 non-null float64\n",
      "12         1000000 non-null float64\n",
      "13         1000000 non-null float64\n",
      "14         1000000 non-null float64\n",
      "15         1000000 non-null float64\n",
      "16         1000000 non-null float64\n",
      "17         1000000 non-null float64\n",
      "18         1000000 non-null float64\n",
      "19         1000000 non-null float64\n",
      "20         1000000 non-null float64\n",
      "21         1000000 non-null float64\n",
      "22         1000000 non-null float64\n",
      "23         1000000 non-null float64\n",
      "24         1000000 non-null float64\n",
      "25         1000000 non-null float64\n",
      "26         1000000 non-null float64\n",
      "27         1000000 non-null float64\n",
      "28         1000000 non-null float64\n",
      "29         1000000 non-null float64\n",
      "30         1000000 non-null float64\n",
      "31         1000000 non-null float64\n",
      "32         1000000 non-null float64\n",
      "33         1000000 non-null float64\n",
      "34         1000000 non-null float64\n",
      "35         1000000 non-null float64\n",
      "36         1000000 non-null float64\n",
      "37         1000000 non-null float64\n",
      "38         1000000 non-null float64\n",
      "39         1000000 non-null float64\n",
      "40         1000000 non-null float64\n",
      "41         1000000 non-null float64\n",
      "42         1000000 non-null float64\n",
      "43         1000000 non-null float64\n",
      "44         1000000 non-null float64\n",
      "45         1000000 non-null float64\n",
      "46         1000000 non-null float64\n",
      "47         1000000 non-null float64\n",
      "48         1000000 non-null float64\n",
      "49         1000000 non-null float64\n",
      "50         1000000 non-null float64\n",
      "51         1000000 non-null float64\n",
      "52         1000000 non-null float64\n",
      "53         1000000 non-null float64\n",
      "54         1000000 non-null float64\n",
      "55         1000000 non-null float64\n",
      "56         1000000 non-null float64\n",
      "57         1000000 non-null float64\n",
      "58         1000000 non-null float64\n",
      "59         1000000 non-null float64\n",
      "60         1000000 non-null float64\n",
      "61         1000000 non-null float64\n",
      "62         1000000 non-null float64\n",
      "63         1000000 non-null float64\n",
      "64         1000000 non-null float64\n",
      "65         1000000 non-null float64\n",
      "66         1000000 non-null float64\n",
      "67         1000000 non-null float64\n",
      "68         1000000 non-null float64\n",
      "69         1000000 non-null float64\n",
      "70         1000000 non-null float64\n",
      "71         1000000 non-null float64\n",
      "72         1000000 non-null float64\n",
      "73         1000000 non-null float64\n",
      "74         1000000 non-null float64\n",
      "75         1000000 non-null float64\n",
      "76         1000000 non-null float64\n",
      "77         1000000 non-null float64\n",
      "78         1000000 non-null float64\n",
      "79         1000000 non-null float64\n",
      "80         1000000 non-null float64\n",
      "81         1000000 non-null float64\n",
      "82         1000000 non-null float64\n",
      "83         1000000 non-null float64\n",
      "84         1000000 non-null float64\n",
      "85         1000000 non-null float64\n",
      "86         1000000 non-null float64\n",
      "87         1000000 non-null float64\n",
      "convert    1000000 non-null int64\n",
      "dtypes: float64(88), int64(1)\n",
      "memory usage: 679.0 MB\n"
     ]
    }
   ],
   "source": [
    "Data.info()"
   ]
  },
  {
   "cell_type": "markdown",
   "metadata": {},
   "source": [
    "## Converting Data into features and target variable."
   ]
  },
  {
   "cell_type": "code",
   "execution_count": 5,
   "metadata": {},
   "outputs": [],
   "source": [
    "X = Data.drop('convert', axis = 1)\n",
    "Y = Data.iloc[:,88]"
   ]
  },
  {
   "cell_type": "markdown",
   "metadata": {},
   "source": [
    "## Analysing Target variable"
   ]
  },
  {
   "cell_type": "code",
   "execution_count": 6,
   "metadata": {},
   "outputs": [
    {
     "data": {
      "text/plain": [
       "0    998092\n",
       "1      1908\n",
       "Name: convert, dtype: int64"
      ]
     },
     "execution_count": 6,
     "metadata": {},
     "output_type": "execute_result"
    }
   ],
   "source": [
    "Data.loc[:,'convert'].value_counts()"
   ]
  },
  {
   "cell_type": "markdown",
   "metadata": {},
   "source": [
    "### The '0' class has 998092 samples while '1' class has only 1908 samples.\n",
    "## Since we have a lot of data, undersampling is a good choice in this situation."
   ]
  },
  {
   "cell_type": "code",
   "execution_count": 7,
   "metadata": {},
   "outputs": [],
   "source": [
    "Sampler = RandomUnderSampler(random_state = 0, replacement = False)"
   ]
  },
  {
   "cell_type": "code",
   "execution_count": 8,
   "metadata": {},
   "outputs": [],
   "source": [
    "X, Y = Sampler.fit_resample(X,Y)"
   ]
  },
  {
   "cell_type": "markdown",
   "metadata": {},
   "source": [
    "# Since there are 87 number of columns and we don't know what each column is base on, we cannot visualize the data this big properly, and there is no need to visualize the data."
   ]
  },
  {
   "cell_type": "markdown",
   "metadata": {},
   "source": [
    "## Now dividing the balanced data into training and testing data."
   ]
  },
  {
   "cell_type": "code",
   "execution_count": 9,
   "metadata": {},
   "outputs": [],
   "source": [
    "x_train, x_test, y_train, y_test = train_test_split(X, Y, test_size=0.3)"
   ]
  },
  {
   "cell_type": "markdown",
   "metadata": {},
   "source": [
    "# Now training the decision tree model using trianing data."
   ]
  },
  {
   "cell_type": "code",
   "execution_count": 10,
   "metadata": {},
   "outputs": [],
   "source": [
    "model = DecisionTreeClassifier(random_state = 0)"
   ]
  },
  {
   "cell_type": "markdown",
   "metadata": {},
   "source": [
    "### Fitting the model with training data."
   ]
  },
  {
   "cell_type": "code",
   "execution_count": 11,
   "metadata": {},
   "outputs": [
    {
     "data": {
      "text/plain": [
       "DecisionTreeClassifier(random_state=0)"
      ]
     },
     "execution_count": 11,
     "metadata": {},
     "output_type": "execute_result"
    }
   ],
   "source": [
    "model.fit(x_train,y_train)"
   ]
  },
  {
   "cell_type": "markdown",
   "metadata": {},
   "source": [
    "### Predicting values of the test data."
   ]
  },
  {
   "cell_type": "code",
   "execution_count": 12,
   "metadata": {},
   "outputs": [
    {
     "data": {
      "text/plain": [
       "array([1, 1, 1, ..., 1, 1, 0], dtype=int64)"
      ]
     },
     "execution_count": 12,
     "metadata": {},
     "output_type": "execute_result"
    }
   ],
   "source": [
    "y_pred = model.predict(x_test)\n",
    "y_pred"
   ]
  },
  {
   "cell_type": "markdown",
   "metadata": {},
   "source": [
    "## Calculating accuracy of model on test data. "
   ]
  },
  {
   "cell_type": "code",
   "execution_count": 13,
   "metadata": {},
   "outputs": [
    {
     "data": {
      "text/plain": [
       "0.5606986899563319"
      ]
     },
     "execution_count": 13,
     "metadata": {},
     "output_type": "execute_result"
    }
   ],
   "source": [
    "model.score(x_test, y_test)"
   ]
  },
  {
   "cell_type": "markdown",
   "metadata": {},
   "source": [
    "# Model has the accuracy of 56.07% on the testing data."
   ]
  },
  {
   "cell_type": "code",
   "execution_count": null,
   "metadata": {},
   "outputs": [],
   "source": []
  }
 ],
 "metadata": {
  "kernelspec": {
   "display_name": "Python 3",
   "language": "python",
   "name": "python3"
  },
  "language_info": {
   "codemirror_mode": {
    "name": "ipython",
    "version": 3
   },
   "file_extension": ".py",
   "mimetype": "text/x-python",
   "name": "python",
   "nbconvert_exporter": "python",
   "pygments_lexer": "ipython3",
   "version": "3.7.3"
  }
 },
 "nbformat": 4,
 "nbformat_minor": 4
}
